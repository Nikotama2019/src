{
 "cells": [
  {
   "cell_type": "code",
   "execution_count": 1,
   "metadata": {},
   "outputs": [],
   "source": [
    "import pandas as pd\n",
    "import numpy as np\n",
    "import matplotlib.pyplot as plt\n",
    "import seaborn as sns\n",
    "import japanize_matplotlib\n",
    "from pathlib import Path"
   ]
  },
  {
   "cell_type": "code",
   "execution_count": 91,
   "metadata": {},
   "outputs": [],
   "source": [
    "df = pd.read_csv(\"sample_1pml_1570512675146.csv\")"
   ]
  },
  {
   "cell_type": "code",
   "execution_count": 9,
   "metadata": {},
   "outputs": [
    {
     "data": {
      "text/plain": [
       "(array([  167007,    40634,   115905,     9044,   112742,   140155,\n",
       "          166749,   181610,  5131166,    38427,    42242, 20221758,\n",
       "          431122,   310746,   166991,   363407,   380055,   174279,\n",
       "         2354466,  5090117,    48493, 10161648,  4002190,  6000392,\n",
       "         2330449, 16029017,  5131159,   393777,  2413017,   100366,\n",
       "          138238,     3265,   110015,   131563,   131341,     5787,\n",
       "          390401,   100925,   101501, 20445358,     4851,     8954],\n",
       "       dtype=int64), 42)"
      ]
     },
     "execution_count": 9,
     "metadata": {},
     "output_type": "execute_result"
    }
   ],
   "source": [
    "dr_nums = df['DriverNumber'].unique()\n",
    "dr_nums, len(dr_nums)"
   ]
  },
  {
   "cell_type": "code",
   "execution_count": 96,
   "metadata": {},
   "outputs": [
    {
     "data": {
      "text/html": [
       "<div>\n",
       "<style scoped>\n",
       "    .dataframe tbody tr th:only-of-type {\n",
       "        vertical-align: middle;\n",
       "    }\n",
       "\n",
       "    .dataframe tbody tr th {\n",
       "        vertical-align: top;\n",
       "    }\n",
       "\n",
       "    .dataframe thead th {\n",
       "        text-align: right;\n",
       "    }\n",
       "</style>\n",
       "<table border=\"1\" class=\"dataframe\">\n",
       "  <thead>\n",
       "    <tr style=\"text-align: right;\">\n",
       "      <th></th>\n",
       "      <th>CanDispatch</th>\n",
       "      <th>CarImage</th>\n",
       "      <th>CompanyID</th>\n",
       "      <th>Direction</th>\n",
       "      <th>DisplayName</th>\n",
       "      <th>DriverNumber</th>\n",
       "      <th>Latitude</th>\n",
       "      <th>Longitude</th>\n",
       "      <th>RadioNumber</th>\n",
       "      <th>SpeedFrom</th>\n",
       "      <th>SpeedTo</th>\n",
       "      <th>StatusTime</th>\n",
       "      <th>VehicleStatus</th>\n",
       "    </tr>\n",
       "  </thead>\n",
       "  <tbody>\n",
       "    <tr>\n",
       "      <th>42</th>\n",
       "      <td>False</td>\n",
       "      <td>green</td>\n",
       "      <td>6</td>\n",
       "      <td>90</td>\n",
       "      <td>普通車</td>\n",
       "      <td>380055</td>\n",
       "      <td>35.630651</td>\n",
       "      <td>139.701645</td>\n",
       "      <td>999</td>\n",
       "      <td>61</td>\n",
       "      <td>61.0</td>\n",
       "      <td>2016-05-05 06:34:10</td>\n",
       "      <td>賃走</td>\n",
       "    </tr>\n",
       "    <tr>\n",
       "      <th>171</th>\n",
       "      <td>True</td>\n",
       "      <td>green</td>\n",
       "      <td>6</td>\n",
       "      <td>360</td>\n",
       "      <td>普通車</td>\n",
       "      <td>380055</td>\n",
       "      <td>35.619258</td>\n",
       "      <td>139.750792</td>\n",
       "      <td>305</td>\n",
       "      <td>61</td>\n",
       "      <td>61.0</td>\n",
       "      <td>2016-11-02 07:54:43</td>\n",
       "      <td>空車</td>\n",
       "    </tr>\n",
       "    <tr>\n",
       "      <th>220</th>\n",
       "      <td>False</td>\n",
       "      <td>green</td>\n",
       "      <td>6</td>\n",
       "      <td>180</td>\n",
       "      <td>普通車</td>\n",
       "      <td>393777</td>\n",
       "      <td>35.669182</td>\n",
       "      <td>139.804907</td>\n",
       "      <td>603</td>\n",
       "      <td>61</td>\n",
       "      <td>80.0</td>\n",
       "      <td>2018-03-20 23:35:06</td>\n",
       "      <td>割増</td>\n",
       "    </tr>\n",
       "    <tr>\n",
       "      <th>320</th>\n",
       "      <td>False</td>\n",
       "      <td>green</td>\n",
       "      <td>6</td>\n",
       "      <td>225</td>\n",
       "      <td>普通車</td>\n",
       "      <td>393777</td>\n",
       "      <td>35.644015</td>\n",
       "      <td>139.672381</td>\n",
       "      <td>603</td>\n",
       "      <td>61</td>\n",
       "      <td>80.0</td>\n",
       "      <td>2018-03-12 21:21:40</td>\n",
       "      <td>賃走</td>\n",
       "    </tr>\n",
       "    <tr>\n",
       "      <th>508</th>\n",
       "      <td>False</td>\n",
       "      <td>green</td>\n",
       "      <td>6</td>\n",
       "      <td>225</td>\n",
       "      <td>普通車</td>\n",
       "      <td>380055</td>\n",
       "      <td>35.619561</td>\n",
       "      <td>139.597041</td>\n",
       "      <td>1184</td>\n",
       "      <td>81</td>\n",
       "      <td>100.0</td>\n",
       "      <td>2016-12-03 19:57:58</td>\n",
       "      <td>賃走</td>\n",
       "    </tr>\n",
       "  </tbody>\n",
       "</table>\n",
       "</div>"
      ],
      "text/plain": [
       "     CanDispatch CarImage  CompanyID  Direction DisplayName  DriverNumber  \\\n",
       "42         False    green          6         90         普通車        380055   \n",
       "171         True    green          6        360         普通車        380055   \n",
       "220        False    green          6        180         普通車        393777   \n",
       "320        False    green          6        225         普通車        393777   \n",
       "508        False    green          6        225         普通車        380055   \n",
       "\n",
       "      Latitude   Longitude  RadioNumber  SpeedFrom  SpeedTo  \\\n",
       "42   35.630651  139.701645          999         61     61.0   \n",
       "171  35.619258  139.750792          305         61     61.0   \n",
       "220  35.669182  139.804907          603         61     80.0   \n",
       "320  35.644015  139.672381          603         61     80.0   \n",
       "508  35.619561  139.597041         1184         81    100.0   \n",
       "\n",
       "              StatusTime VehicleStatus  \n",
       "42   2016-05-05 06:34:10            賃走  \n",
       "171  2016-11-02 07:54:43            空車  \n",
       "220  2018-03-20 23:35:06            割増  \n",
       "320  2018-03-12 21:21:40            賃走  \n",
       "508  2016-12-03 19:57:58            賃走  "
      ]
     },
     "execution_count": 96,
     "metadata": {},
     "output_type": "execute_result"
    }
   ],
   "source": [
    "dr1=df[df[\"CompanyID\"]==6]\n",
    "dr1.head()"
   ]
  },
  {
   "cell_type": "code",
   "execution_count": 45,
   "metadata": {},
   "outputs": [
    {
     "data": {
      "text/plain": [
       "array(['実車', '空車', '離れ', '回送', '支払', '待機', '賃走', '迎車', '割増', '休憩', '閉局',\n",
       "       '了解', '不在', '貸切', '緊急', '非常', '電障'], dtype=object)"
      ]
     },
     "execution_count": 45,
     "metadata": {},
     "output_type": "execute_result"
    }
   ],
   "source": [
    "df[\"VehicleStatus\"].unique()"
   ]
  },
  {
   "cell_type": "code",
   "execution_count": 46,
   "metadata": {},
   "outputs": [
    {
     "name": "stdout",
     "output_type": "stream",
     "text": [
      "1\n",
      "['実車' '空車' '回送' '支払' '待機' '迎車' '閉局' '不在' '貸切']\n",
      "8\n",
      "['離れ' '実車' '空車' '了解' '緊急' '貸切']\n",
      "3\n",
      "['実車' '空車' '休憩' '迎車' '緊急' '閉局' '回送']\n",
      "9\n",
      "['空車' '実車' '回送' '支払' '休憩' '迎車' '閉局']\n",
      "6\n",
      "['賃走' '空車' '割増' '回送' '迎車' '休憩' '支払' '閉局' '貸切']\n",
      "2\n",
      "['賃走' '回送' '空車' '閉局' '迎車' '支払' '休憩']\n",
      "7\n",
      "['空車' '実車' '支払' '回送' '迎車' '非常' '閉局' '電障' '休憩' '貸切']\n"
     ]
    }
   ],
   "source": [
    "for i in df[\"CompanyID\"].unique():\n",
    "    print(i)\n",
    "    print(df[df[\"CompanyID\"]==i][\"VehicleStatus\"].unique())"
   ]
  },
  {
   "cell_type": "code",
   "execution_count": 4,
   "metadata": {},
   "outputs": [],
   "source": [
    "dr=df[df[\"DriverNumber\"]==5131159]"
   ]
  },
  {
   "cell_type": "code",
   "execution_count": 94,
   "metadata": {},
   "outputs": [
    {
     "data": {
      "text/html": [
       "<div>\n",
       "<style scoped>\n",
       "    .dataframe tbody tr th:only-of-type {\n",
       "        vertical-align: middle;\n",
       "    }\n",
       "\n",
       "    .dataframe tbody tr th {\n",
       "        vertical-align: top;\n",
       "    }\n",
       "\n",
       "    .dataframe thead th {\n",
       "        text-align: right;\n",
       "    }\n",
       "</style>\n",
       "<table border=\"1\" class=\"dataframe\">\n",
       "  <thead>\n",
       "    <tr style=\"text-align: right;\">\n",
       "      <th></th>\n",
       "      <th>CanDispatch</th>\n",
       "      <th>CarImage</th>\n",
       "      <th>CompanyID</th>\n",
       "      <th>Direction</th>\n",
       "      <th>DisplayName</th>\n",
       "      <th>DriverNumber</th>\n",
       "      <th>Latitude</th>\n",
       "      <th>Longitude</th>\n",
       "      <th>RadioNumber</th>\n",
       "      <th>SpeedFrom</th>\n",
       "      <th>SpeedTo</th>\n",
       "      <th>StatusTime</th>\n",
       "      <th>VehicleStatus</th>\n",
       "    </tr>\n",
       "  </thead>\n",
       "  <tbody>\n",
       "    <tr>\n",
       "      <th>42</th>\n",
       "      <td>False</td>\n",
       "      <td>green</td>\n",
       "      <td>6</td>\n",
       "      <td>90</td>\n",
       "      <td>普通車</td>\n",
       "      <td>380055</td>\n",
       "      <td>35.630651</td>\n",
       "      <td>139.701645</td>\n",
       "      <td>999</td>\n",
       "      <td>61</td>\n",
       "      <td>61.0</td>\n",
       "      <td>2016-05-05 06:34:10</td>\n",
       "      <td>賃走</td>\n",
       "    </tr>\n",
       "    <tr>\n",
       "      <th>171</th>\n",
       "      <td>True</td>\n",
       "      <td>green</td>\n",
       "      <td>6</td>\n",
       "      <td>360</td>\n",
       "      <td>普通車</td>\n",
       "      <td>380055</td>\n",
       "      <td>35.619258</td>\n",
       "      <td>139.750792</td>\n",
       "      <td>305</td>\n",
       "      <td>61</td>\n",
       "      <td>61.0</td>\n",
       "      <td>2016-11-02 07:54:43</td>\n",
       "      <td>空車</td>\n",
       "    </tr>\n",
       "    <tr>\n",
       "      <th>220</th>\n",
       "      <td>False</td>\n",
       "      <td>green</td>\n",
       "      <td>6</td>\n",
       "      <td>180</td>\n",
       "      <td>普通車</td>\n",
       "      <td>393777</td>\n",
       "      <td>35.669182</td>\n",
       "      <td>139.804907</td>\n",
       "      <td>603</td>\n",
       "      <td>61</td>\n",
       "      <td>80.0</td>\n",
       "      <td>2018-03-20 23:35:06</td>\n",
       "      <td>割増</td>\n",
       "    </tr>\n",
       "    <tr>\n",
       "      <th>320</th>\n",
       "      <td>False</td>\n",
       "      <td>green</td>\n",
       "      <td>6</td>\n",
       "      <td>225</td>\n",
       "      <td>普通車</td>\n",
       "      <td>393777</td>\n",
       "      <td>35.644015</td>\n",
       "      <td>139.672381</td>\n",
       "      <td>603</td>\n",
       "      <td>61</td>\n",
       "      <td>80.0</td>\n",
       "      <td>2018-03-12 21:21:40</td>\n",
       "      <td>賃走</td>\n",
       "    </tr>\n",
       "    <tr>\n",
       "      <th>508</th>\n",
       "      <td>False</td>\n",
       "      <td>green</td>\n",
       "      <td>6</td>\n",
       "      <td>225</td>\n",
       "      <td>普通車</td>\n",
       "      <td>380055</td>\n",
       "      <td>35.619561</td>\n",
       "      <td>139.597041</td>\n",
       "      <td>1184</td>\n",
       "      <td>81</td>\n",
       "      <td>100.0</td>\n",
       "      <td>2016-12-03 19:57:58</td>\n",
       "      <td>賃走</td>\n",
       "    </tr>\n",
       "  </tbody>\n",
       "</table>\n",
       "</div>"
      ],
      "text/plain": [
       "     CanDispatch CarImage  CompanyID  Direction DisplayName  DriverNumber  \\\n",
       "42         False    green          6         90         普通車        380055   \n",
       "171         True    green          6        360         普通車        380055   \n",
       "220        False    green          6        180         普通車        393777   \n",
       "320        False    green          6        225         普通車        393777   \n",
       "508        False    green          6        225         普通車        380055   \n",
       "\n",
       "      Latitude   Longitude  RadioNumber  SpeedFrom  SpeedTo  \\\n",
       "42   35.630651  139.701645          999         61     61.0   \n",
       "171  35.619258  139.750792          305         61     61.0   \n",
       "220  35.669182  139.804907          603         61     80.0   \n",
       "320  35.644015  139.672381          603         61     80.0   \n",
       "508  35.619561  139.597041         1184         81    100.0   \n",
       "\n",
       "              StatusTime VehicleStatus  \n",
       "42   2016-05-05 06:34:10            賃走  \n",
       "171  2016-11-02 07:54:43            空車  \n",
       "220  2018-03-20 23:35:06            割増  \n",
       "320  2018-03-12 21:21:40            賃走  \n",
       "508  2016-12-03 19:57:58            賃走  "
      ]
     },
     "execution_count": 94,
     "metadata": {},
     "output_type": "execute_result"
    }
   ],
   "source": [
    "dr.head()"
   ]
  },
  {
   "cell_type": "code",
   "execution_count": 6,
   "metadata": {},
   "outputs": [
    {
     "data": {
      "text/plain": [
       "array(['空車', '休憩', '実車', '迎車'], dtype=object)"
      ]
     },
     "execution_count": 6,
     "metadata": {},
     "output_type": "execute_result"
    }
   ],
   "source": [
    "dr_sort = dr.sort_values(by=['StatusTime'])\n",
    "dr_sort[\"VehicleStatus\"].unique()"
   ]
  },
  {
   "cell_type": "code",
   "execution_count": 7,
   "metadata": {},
   "outputs": [],
   "source": [
    "a = ((dr_sort[\"VehicleStatus\"]== \"実車\").values).astype(np.int)\n",
    "dif1_pick = a[1:]-a[:-1]\n",
    "dif1_pick = np.append(dif1_pick, 0)\n",
    "dif2_pick = np.append(a[2:]-a[:-2], [0,0])\n",
    "dif_pick = dif1_pick+dif2_pick\n",
    "#pick up する位置\n",
    "dr_sort[\"pick\"]=(dif_pick == 2).astype(np.int)\n",
    "#dr_sort\n",
    "#np.count_nonzero(alist == 1), np.count_nonzero(alist == -1),np.count_nonzero(alist == 0)"
   ]
  },
  {
   "cell_type": "code",
   "execution_count": 66,
   "metadata": {},
   "outputs": [
    {
     "data": {
      "text/plain": [
       "(array([-2, -1,  0,  1,  2]), array([-2, -1,  0,  1,  2]))"
      ]
     },
     "execution_count": 66,
     "metadata": {},
     "output_type": "execute_result"
    }
   ],
   "source": [
    "np.unique(pick_up(dr_sort)), np.unique(take(dr_sort))"
   ]
  },
  {
   "cell_type": "code",
   "execution_count": 49,
   "metadata": {},
   "outputs": [],
   "source": [
    "def pick_up(df):\n",
    "    a = (((df[\"VehicleStatus\"]== \"実車\")|(df[\"VehicleStatus\"]== \"賃走\")).values).astype(np.int)\n",
    "    dif1_pick = a[1:]-a[:-1]\n",
    "    dif1_pick = np.append(dif1_pick, 0)\n",
    "    dif2_pick = np.append(a[2:]-a[:-2], [0,0])\n",
    "    dif_pick = dif1_pick+dif2_pick\n",
    "    \n",
    "    \n",
    "    dif2_take = np.append(a[2:]-a[:-2], 0)\n",
    "    dif2_take = np.append(0,dif2_take)\n",
    "    dif_take = dif1_pick + dif2_take\n",
    "    return dif_pick, dif_take"
   ]
  },
  {
   "cell_type": "markdown",
   "metadata": {},
   "source": [
    "def take(df):\n",
    "    a = ((df[\"VehicleStatus\"]== \"実車\").values).astype(np.int)\n",
    "    print(\"a\", len(a))\n",
    "    dif2_take = np.append(a[2:]-a[:-2], 0)\n",
    "    dif2_take = np.append(0,dif2_take)\n",
    "    print\n",
    "    dif_take = dif1_pick + dif2_take\n",
    "    return dif_take"
   ]
  },
  {
   "cell_type": "markdown",
   "metadata": {},
   "source": [
    "dif2_take = np.append(a[2:]-a[:-2], 0)\n",
    "dif2_take = np.append(0,dif2_take)\n",
    "dif_take = dif1_pick+dif2_take\n",
    "#get out する位置\n",
    "#dr_sort[dif_take == -2]\n",
    "dr_sort[\"pick\"]=dr_sort[\"pick\"]-(dif_take == -2).astype(np.int)\n",
    "#dr_sort"
   ]
  },
  {
   "cell_type": "code",
   "execution_count": 50,
   "metadata": {},
   "outputs": [],
   "source": [
    "from math import sin, cos, sqrt, atan2, radians\n",
    "\n",
    "# approximate radius of earth in km\n",
    "\n",
    "def dist(lat1, lon1, lat2, lon2):\n",
    "    R = 6373.0\n",
    "    lat1 = radians(lat1)\n",
    "    lon1 = radians(lon1)\n",
    "    lat2 = radians(lat2)\n",
    "    lon2 = radians(lon2)\n",
    "\n",
    "    dlon = lon2 - lon1\n",
    "    dlat = lat2 - lat1\n",
    "\n",
    "    a = sin(dlat / 2)**2 + cos(lat1) * cos(lat2) * sin(dlon / 2)**2\n",
    "    c = 2 * atan2(sqrt(a), sqrt(1 - a))\n",
    "\n",
    "    distance = R * c*1000\n",
    "    #print(\"Result:\", distance)\n",
    "    return distance"
   ]
  },
  {
   "cell_type": "code",
   "execution_count": null,
   "metadata": {},
   "outputs": [],
   "source": [
    "for i in []:\n",
    "    dist[35.746416, 139.832615, 35.746416, 139.832615]"
   ]
  },
  {
   "cell_type": "code",
   "execution_count": 44,
   "metadata": {},
   "outputs": [
    {
     "data": {
      "text/html": [
       "<div>\n",
       "<style scoped>\n",
       "    .dataframe tbody tr th:only-of-type {\n",
       "        vertical-align: middle;\n",
       "    }\n",
       "\n",
       "    .dataframe tbody tr th {\n",
       "        vertical-align: top;\n",
       "    }\n",
       "\n",
       "    .dataframe thead th {\n",
       "        text-align: right;\n",
       "    }\n",
       "</style>\n",
       "<table border=\"1\" class=\"dataframe\">\n",
       "  <thead>\n",
       "    <tr style=\"text-align: right;\">\n",
       "      <th></th>\n",
       "      <th>dr_num</th>\n",
       "      <th>start_time</th>\n",
       "      <th>finish_time</th>\n",
       "      <th>lat1</th>\n",
       "      <th>lon1</th>\n",
       "      <th>lat2</th>\n",
       "      <th>lon2</th>\n",
       "      <th>dis</th>\n",
       "    </tr>\n",
       "  </thead>\n",
       "  <tbody>\n",
       "  </tbody>\n",
       "</table>\n",
       "</div>"
      ],
      "text/plain": [
       "Empty DataFrame\n",
       "Columns: [dr_num, start_time, finish_time, lat1, lon1, lat2, lon2, dis]\n",
       "Index: []"
      ]
     },
     "execution_count": 44,
     "metadata": {},
     "output_type": "execute_result"
    }
   ],
   "source": [
    "df_dist = pd.DataFrame(columns=[\"dr_num\",'start_time', 'finish_time', 'lat1', 'lon1',\"lat2\", \"lon2\", \"dis\"])\n",
    "df_dist"
   ]
  },
  {
   "cell_type": "code",
   "execution_count": 51,
   "metadata": {},
   "outputs": [],
   "source": [
    "def sum_dis(start, finish, df1):\n",
    "    sum_= 0\n",
    "    for i in range (start, finish):\n",
    "        #print(i)\n",
    "        sum_+= dist(df1.iloc[i,6],df1.iloc[i,7], \n",
    "                 df1.iloc[i+1,6],df1.iloc[i+1,7])\n",
    "    return sum_"
   ]
  },
  {
   "cell_type": "markdown",
   "metadata": {},
   "source": [
    "i=0\n",
    "x=0\n",
    "n=len(dr_sort)\n",
    "while i<n:\n",
    "    if dr_sort.iloc[i,13]==1:\n",
    "        s = i\n",
    "    elif dr_sort.iloc[i,13]==-1:\n",
    "        f = i\n",
    "        d = sum_dis(s,f)\n",
    "        df_dist.loc[x] = [dr_sort.iloc[s, 5],dr_sort.iloc[s,11], dr_sort.iloc[f,11], \n",
    "                         dr_sort.iloc[s,6],dr_sort.iloc[s,7], \n",
    "                         dr_sort.iloc[f,6],dr_sort.iloc[f,7], d ]\n",
    "        x+=1\n",
    "    i+=1"
   ]
  },
  {
   "cell_type": "markdown",
   "metadata": {},
   "source": [
    "def make_df(df):\n",
    "    b = df\n",
    "    return b"
   ]
  },
  {
   "cell_type": "markdown",
   "metadata": {},
   "source": [
    "b = make_df\n",
    "b"
   ]
  },
  {
   "cell_type": "code",
   "execution_count": 52,
   "metadata": {},
   "outputs": [
    {
     "name": "stdout",
     "output_type": "stream",
     "text": [
      "167007\n",
      "40634\n",
      "115905\n",
      "9044\n",
      "112742\n",
      "140155\n",
      "166749\n",
      "181610\n",
      "5131166\n",
      "38427\n",
      "42242\n",
      "20221758\n",
      "431122\n",
      "310746\n",
      "166991\n",
      "363407\n",
      "380055\n",
      "174279\n",
      "2354466\n",
      "5090117\n",
      "48493\n",
      "10161648\n",
      "4002190\n",
      "6000392\n",
      "2330449\n",
      "16029017\n",
      "5131159\n",
      "393777\n",
      "2413017\n",
      "100366\n",
      "138238\n",
      "3265\n",
      "110015\n",
      "131563\n",
      "131341\n",
      "5787\n",
      "390401\n",
      "100925\n",
      "101501\n",
      "20445358\n",
      "4851\n",
      "8954\n"
     ]
    }
   ],
   "source": [
    "df_dists = pd.DataFrame(columns=[\"dr_num\",'start_time', 'finish_time', 'lat1', 'lon1',\"lat2\", \"lon2\", \"dis\"])\n",
    "#print(df_dist)\n",
    "dr_nums = df['DriverNumber'].unique()\n",
    "#dr_nums = [40634,   115905]\n",
    "#dr_nums = [115905, 5131159]\n",
    "    \n",
    "for num in dr_nums:\n",
    "    print(num)\n",
    "    df_dist = pd.DataFrame(columns=[\"dr_num\",'start_time', 'finish_time', 'lat1', 'lon1',\"lat2\", \"lon2\", \"dis\"])\n",
    "    dr=df[df[\"DriverNumber\"]==num]\n",
    "    dr_sort = dr.sort_values(by=['StatusTime'])\n",
    "    pick1, take1 = pick_up(dr_sort)\n",
    "    dr_sort[\"pick\"]= ((pick1 == 2).astype(np.int)-(take1 == -2).astype(np.int))\n",
    "    i=0\n",
    "    x=0\n",
    "    n=len(dr_sort)\n",
    "    s = 0\n",
    "    while i<n:\n",
    "        if dr_sort.iloc[i,13]==1:\n",
    "            s = i\n",
    "        elif dr_sort.iloc[i,13]==-1:\n",
    "            f = i\n",
    "            d = sum_dis(s,f, dr_sort)\n",
    "            df_dist.loc[x] = [dr_sort.iloc[s, 5],dr_sort.iloc[s,11], dr_sort.iloc[f,11], \n",
    "                              dr_sort.iloc[s,6],dr_sort.iloc[s,7], \n",
    "                              dr_sort.iloc[f,6],dr_sort.iloc[f,7], d ]\n",
    "            x+=1\n",
    "        i+=1\n",
    "        \n",
    "    df_dists = pd.concat([df_dists,df_dist],ignore_index=True)"
   ]
  },
  {
   "cell_type": "markdown",
   "metadata": {},
   "source": [
    "### 最初の時点で、実車になっているタクシーがあるため\n",
    "dr_num\tstart_time\tfinish_time\tlat1\tlon1\tlat2\tlon2\tdis  \n",
    "40634\t2016-12-07 14:42:13\t2016-04-01 00:06:15\t35.690774\t139.747322\t35.711846\t139.776528\t0\n",
    "### のようなものが最初に出てくる可能性あり"
   ]
  },
  {
   "cell_type": "code",
   "execution_count": 42,
   "metadata": {},
   "outputs": [
    {
     "data": {
      "text/plain": [
       "<matplotlib.axes._subplots.AxesSubplot at 0x212e98bcb38>"
      ]
     },
     "execution_count": 42,
     "metadata": {},
     "output_type": "execute_result"
    },
    {
     "data": {
      "image/png": "[encoded data removed]",
      "text/plain": [
       "<Figure size 432x288 with 1 Axes>"
      ]
     },
     "metadata": {
      "needs_background": "light"
     },
     "output_type": "display_data"
    }
   ],
   "source": [
    "sns.distplot(df_dists[df_dists[\"dis\"]<20000].loc[:, \"dis\"], kde=False, rug=False, bins=100) "
   ]
  },
  {
   "cell_type": "code",
   "execution_count": 44,
   "metadata": {},
   "outputs": [
    {
     "data": {
      "text/plain": [
       "98907.01122320494"
      ]
     },
     "execution_count": 44,
     "metadata": {},
     "output_type": "execute_result"
    }
   ],
   "source": [
    "df_dists['dis'].max()"
   ]
  },
  {
   "cell_type": "code",
   "execution_count": 13,
   "metadata": {},
   "outputs": [
    {
     "data": {
      "text/plain": [
       "(4402.299424649535, 3260869155.119257)"
      ]
     },
     "execution_count": 13,
     "metadata": {},
     "output_type": "execute_result"
    }
   ],
   "source": [
    "np.mean(df_dists[\"dis\"]), np.var(df_dists[\"dis\"])"
   ]
  },
  {
   "cell_type": "code",
   "execution_count": 14,
   "metadata": {},
   "outputs": [
    {
     "data": {
      "text/html": [
       "<div>\n",
       "<style scoped>\n",
       "    .dataframe tbody tr th:only-of-type {\n",
       "        vertical-align: middle;\n",
       "    }\n",
       "\n",
       "    .dataframe tbody tr th {\n",
       "        vertical-align: top;\n",
       "    }\n",
       "\n",
       "    .dataframe thead th {\n",
       "        text-align: right;\n",
       "    }\n",
       "</style>\n",
       "<table border=\"1\" class=\"dataframe\">\n",
       "  <thead>\n",
       "    <tr style=\"text-align: right;\">\n",
       "      <th></th>\n",
       "      <th>dr_num</th>\n",
       "      <th>start_time</th>\n",
       "      <th>finish_time</th>\n",
       "      <th>lat1</th>\n",
       "      <th>lon1</th>\n",
       "      <th>lat2</th>\n",
       "      <th>lon2</th>\n",
       "      <th>dis</th>\n",
       "    </tr>\n",
       "  </thead>\n",
       "  <tbody>\n",
       "    <tr>\n",
       "      <th>21016</th>\n",
       "      <td>140155</td>\n",
       "      <td>2016-04-22 07:08:42</td>\n",
       "      <td>2016-04-22 07:15:11</td>\n",
       "      <td>0.004602</td>\n",
       "      <td>0.01004</td>\n",
       "      <td>35.708708</td>\n",
       "      <td>139.893289</td>\n",
       "      <td>1.428278e+07</td>\n",
       "    </tr>\n",
       "  </tbody>\n",
       "</table>\n",
       "</div>"
      ],
      "text/plain": [
       "       dr_num           start_time          finish_time      lat1     lon1  \\\n",
       "21016  140155  2016-04-22 07:08:42  2016-04-22 07:15:11  0.004602  0.01004   \n",
       "\n",
       "            lat2        lon2           dis  \n",
       "21016  35.708708  139.893289  1.428278e+07  "
      ]
     },
     "execution_count": 14,
     "metadata": {},
     "output_type": "execute_result"
    }
   ],
   "source": [
    "df_dists.query('dis == \"14282779.26191702\"')"
   ]
  },
  {
   "cell_type": "code",
   "execution_count": 60,
   "metadata": {},
   "outputs": [
    {
     "data": {
      "text/plain": [
       "42"
      ]
     },
     "execution_count": 60,
     "metadata": {},
     "output_type": "execute_result"
    }
   ],
   "source": [
    "len(df_dists[\"dr_num\"].unique())"
   ]
  },
  {
   "cell_type": "code",
   "execution_count": 30,
   "metadata": {},
   "outputs": [
    {
     "data": {
      "text/plain": [
       "(30, 126664, 126664)"
      ]
     },
     "execution_count": 30,
     "metadata": {},
     "output_type": "execute_result"
    }
   ],
   "source": [
    "len(df_dists[df_dists[\"dis\"]>=100000]), len(df_dists),len(df_dists)-len(df_dists[df_dists[\"dis\"]<=100])"
   ]
  },
  {
   "cell_type": "markdown",
   "metadata": {},
   "source": [
    "# 距離が100m以下　100km以上のものは削除"
   ]
  },
  {
   "cell_type": "code",
   "execution_count": 35,
   "metadata": {},
   "outputs": [
    {
     "data": {
      "text/plain": [
       "126634"
      ]
     },
     "execution_count": 35,
     "metadata": {},
     "output_type": "execute_result"
    }
   ],
   "source": [
    "df_dists = df_dists[(df_dists[\"dis\"]>100) & (df_dists[\"dis\"]<100000)]\n",
    "len(df_dists)"
   ]
  },
  {
   "cell_type": "code",
   "execution_count": 88,
   "metadata": {},
   "outputs": [
    {
     "data": {
      "text/html": [
       "<div>\n",
       "<style scoped>\n",
       "    .dataframe tbody tr th:only-of-type {\n",
       "        vertical-align: middle;\n",
       "    }\n",
       "\n",
       "    .dataframe tbody tr th {\n",
       "        vertical-align: top;\n",
       "    }\n",
       "\n",
       "    .dataframe thead th {\n",
       "        text-align: right;\n",
       "    }\n",
       "</style>\n",
       "<table border=\"1\" class=\"dataframe\">\n",
       "  <thead>\n",
       "    <tr style=\"text-align: right;\">\n",
       "      <th></th>\n",
       "      <th>station_cd</th>\n",
       "      <th>station_g_cd</th>\n",
       "      <th>station_name</th>\n",
       "      <th>lon</th>\n",
       "      <th>lat</th>\n",
       "    </tr>\n",
       "  </thead>\n",
       "  <tbody>\n",
       "    <tr>\n",
       "      <th>1262</th>\n",
       "      <td>1130101</td>\n",
       "      <td>1130101</td>\n",
       "      <td>東京</td>\n",
       "      <td>139.766103</td>\n",
       "      <td>35.681391</td>\n",
       "    </tr>\n",
       "    <tr>\n",
       "      <th>1263</th>\n",
       "      <td>1130102</td>\n",
       "      <td>1130102</td>\n",
       "      <td>新橋</td>\n",
       "      <td>139.758587</td>\n",
       "      <td>35.666195</td>\n",
       "    </tr>\n",
       "    <tr>\n",
       "      <th>1264</th>\n",
       "      <td>1130103</td>\n",
       "      <td>1130103</td>\n",
       "      <td>品川</td>\n",
       "      <td>139.738999</td>\n",
       "      <td>35.628760</td>\n",
       "    </tr>\n",
       "    <tr>\n",
       "      <th>1283</th>\n",
       "      <td>1130201</td>\n",
       "      <td>1130201</td>\n",
       "      <td>大崎</td>\n",
       "      <td>139.728439</td>\n",
       "      <td>35.619772</td>\n",
       "    </tr>\n",
       "    <tr>\n",
       "      <th>1284</th>\n",
       "      <td>1130202</td>\n",
       "      <td>1130202</td>\n",
       "      <td>五反田</td>\n",
       "      <td>139.723822</td>\n",
       "      <td>35.625974</td>\n",
       "    </tr>\n",
       "  </tbody>\n",
       "</table>\n",
       "</div>"
      ],
      "text/plain": [
       "      station_cd  station_g_cd station_name         lon        lat\n",
       "1262     1130101       1130101           東京  139.766103  35.681391\n",
       "1263     1130102       1130102           新橋  139.758587  35.666195\n",
       "1264     1130103       1130103           品川  139.738999  35.628760\n",
       "1283     1130201       1130201           大崎  139.728439  35.619772\n",
       "1284     1130202       1130202          五反田  139.723822  35.625974"
      ]
     },
     "execution_count": 88,
     "metadata": {},
     "output_type": "execute_result"
    }
   ],
   "source": [
    "sta = pd.read_csv(\"station.csv\")\n",
    "sta.sample(20)\n",
    "sta_list = [\"大崎\",\"五反田\",\"目黒\",\"恵比寿\",\"渋谷\",\"原宿\",\"代々木\",\n",
    "            \"新宿\",\"新大久保\",\"高田馬場\", \"目白\",\"池袋\",\"大塚\",\n",
    "            \"巣鴨\",\"駒込\",\"田端\",\"西日暮里\",\"日暮里\",\"鶯谷\",\"上野\", \n",
    "            \"御徒町\",\"秋葉原\",\"神田\",\"東京\",\"有楽町\",\"新橋\",\"浜松町\",\"田町\",\"品川\"]\n",
    "yamano = sta[sta['station_name'].isin(sta_list)].iloc[:,[0,1,2, 9,10]]\n",
    "yamano = yamano[~yamano[\"station_name\"].duplicated(keep='first')]\n",
    "yamano.head()"
   ]
  },
  {
   "cell_type": "code",
   "execution_count": 87,
   "metadata": {},
   "outputs": [
    {
     "data": {
      "text/html": [
       "<div>\n",
       "<style scoped>\n",
       "    .dataframe tbody tr th:only-of-type {\n",
       "        vertical-align: middle;\n",
       "    }\n",
       "\n",
       "    .dataframe tbody tr th {\n",
       "        vertical-align: top;\n",
       "    }\n",
       "\n",
       "    .dataframe thead th {\n",
       "        text-align: right;\n",
       "    }\n",
       "</style>\n",
       "<table border=\"1\" class=\"dataframe\">\n",
       "  <thead>\n",
       "    <tr style=\"text-align: right;\">\n",
       "      <th></th>\n",
       "      <th>dr_num</th>\n",
       "      <th>start_time</th>\n",
       "      <th>finish_time</th>\n",
       "      <th>lat1</th>\n",
       "      <th>lon1</th>\n",
       "      <th>lat2</th>\n",
       "      <th>lon2</th>\n",
       "      <th>dis</th>\n",
       "    </tr>\n",
       "  </thead>\n",
       "  <tbody>\n",
       "    <tr>\n",
       "      <th>0</th>\n",
       "      <td>167007</td>\n",
       "      <td>2016-04-01 08:23:23</td>\n",
       "      <td>2016-04-01 08:57:08</td>\n",
       "      <td>35.725998</td>\n",
       "      <td>139.822224</td>\n",
       "      <td>35.689216</td>\n",
       "      <td>139.745462</td>\n",
       "      <td>11955.232742</td>\n",
       "    </tr>\n",
       "    <tr>\n",
       "      <th>1</th>\n",
       "      <td>167007</td>\n",
       "      <td>2016-04-01 09:10:41</td>\n",
       "      <td>2016-04-01 09:21:07</td>\n",
       "      <td>35.691702</td>\n",
       "      <td>139.741012</td>\n",
       "      <td>35.701415</td>\n",
       "      <td>139.756430</td>\n",
       "      <td>2232.459013</td>\n",
       "    </tr>\n",
       "    <tr>\n",
       "      <th>2</th>\n",
       "      <td>167007</td>\n",
       "      <td>2016-04-01 09:22:57</td>\n",
       "      <td>2016-04-01 09:33:31</td>\n",
       "      <td>35.701405</td>\n",
       "      <td>139.755431</td>\n",
       "      <td>35.710814</td>\n",
       "      <td>139.773949</td>\n",
       "      <td>3438.608272</td>\n",
       "    </tr>\n",
       "    <tr>\n",
       "      <th>3</th>\n",
       "      <td>167007</td>\n",
       "      <td>2016-04-01 09:35:47</td>\n",
       "      <td>2016-04-01 09:40:54</td>\n",
       "      <td>35.712424</td>\n",
       "      <td>139.778178</td>\n",
       "      <td>35.707448</td>\n",
       "      <td>139.793827</td>\n",
       "      <td>1669.184583</td>\n",
       "    </tr>\n",
       "    <tr>\n",
       "      <th>4</th>\n",
       "      <td>167007</td>\n",
       "      <td>2016-04-01 09:55:37</td>\n",
       "      <td>2016-04-01 10:15:51</td>\n",
       "      <td>35.697036</td>\n",
       "      <td>139.786218</td>\n",
       "      <td>35.669411</td>\n",
       "      <td>139.741313</td>\n",
       "      <td>5657.205801</td>\n",
       "    </tr>\n",
       "  </tbody>\n",
       "</table>\n",
       "</div>"
      ],
      "text/plain": [
       "   dr_num           start_time          finish_time       lat1        lon1  \\\n",
       "0  167007  2016-04-01 08:23:23  2016-04-01 08:57:08  35.725998  139.822224   \n",
       "1  167007  2016-04-01 09:10:41  2016-04-01 09:21:07  35.691702  139.741012   \n",
       "2  167007  2016-04-01 09:22:57  2016-04-01 09:33:31  35.701405  139.755431   \n",
       "3  167007  2016-04-01 09:35:47  2016-04-01 09:40:54  35.712424  139.778178   \n",
       "4  167007  2016-04-01 09:55:37  2016-04-01 10:15:51  35.697036  139.786218   \n",
       "\n",
       "        lat2        lon2           dis  \n",
       "0  35.689216  139.745462  11955.232742  \n",
       "1  35.701415  139.756430   2232.459013  \n",
       "2  35.710814  139.773949   3438.608272  \n",
       "3  35.707448  139.793827   1669.184583  \n",
       "4  35.669411  139.741313   5657.205801  "
      ]
     },
     "execution_count": 87,
     "metadata": {},
     "output_type": "execute_result"
    }
   ],
   "source": [
    "df_dists.head()"
   ]
  },
  {
   "cell_type": "code",
   "execution_count": 53,
   "metadata": {},
   "outputs": [],
   "source": [
    "df_dists.to_csv(\"dr_record.csv\")"
   ]
  },
  {
   "cell_type": "code",
   "execution_count": 93,
   "metadata": {},
   "outputs": [
    {
     "data": {
      "text/html": [
       "<div>\n",
       "<style scoped>\n",
       "    .dataframe tbody tr th:only-of-type {\n",
       "        vertical-align: middle;\n",
       "    }\n",
       "\n",
       "    .dataframe tbody tr th {\n",
       "        vertical-align: top;\n",
       "    }\n",
       "\n",
       "    .dataframe thead th {\n",
       "        text-align: right;\n",
       "    }\n",
       "</style>\n",
       "<table border=\"1\" class=\"dataframe\">\n",
       "  <thead>\n",
       "    <tr style=\"text-align: right;\">\n",
       "      <th></th>\n",
       "      <th>CanDispatch</th>\n",
       "      <th>CarImage</th>\n",
       "      <th>CompanyID</th>\n",
       "      <th>Direction</th>\n",
       "      <th>DisplayName</th>\n",
       "      <th>DriverNumber</th>\n",
       "      <th>Latitude</th>\n",
       "      <th>Longitude</th>\n",
       "      <th>RadioNumber</th>\n",
       "      <th>SpeedFrom</th>\n",
       "      <th>SpeedTo</th>\n",
       "      <th>StatusTime</th>\n",
       "      <th>VehicleStatus</th>\n",
       "    </tr>\n",
       "  </thead>\n",
       "  <tbody>\n",
       "    <tr>\n",
       "      <th>8749626</th>\n",
       "      <td>False</td>\n",
       "      <td>black</td>\n",
       "      <td>8</td>\n",
       "      <td>172</td>\n",
       "      <td>黒タク</td>\n",
       "      <td>8954</td>\n",
       "      <td>35.777150</td>\n",
       "      <td>139.720117</td>\n",
       "      <td>2046</td>\n",
       "      <td>27</td>\n",
       "      <td>27.0</td>\n",
       "      <td>2018-03-31 23:58:18</td>\n",
       "      <td>実車</td>\n",
       "    </tr>\n",
       "    <tr>\n",
       "      <th>8747934</th>\n",
       "      <td>False</td>\n",
       "      <td>black</td>\n",
       "      <td>8</td>\n",
       "      <td>158</td>\n",
       "      <td>黒タク</td>\n",
       "      <td>8954</td>\n",
       "      <td>35.776133</td>\n",
       "      <td>139.720367</td>\n",
       "      <td>2046</td>\n",
       "      <td>23</td>\n",
       "      <td>23.0</td>\n",
       "      <td>2018-03-31 23:58:37</td>\n",
       "      <td>実車</td>\n",
       "    </tr>\n",
       "    <tr>\n",
       "      <th>6233588</th>\n",
       "      <td>False</td>\n",
       "      <td>black</td>\n",
       "      <td>8</td>\n",
       "      <td>164</td>\n",
       "      <td>黒タク</td>\n",
       "      <td>8954</td>\n",
       "      <td>35.774950</td>\n",
       "      <td>139.720950</td>\n",
       "      <td>2046</td>\n",
       "      <td>24</td>\n",
       "      <td>24.0</td>\n",
       "      <td>2018-03-31 23:59:16</td>\n",
       "      <td>実車</td>\n",
       "    </tr>\n",
       "    <tr>\n",
       "      <th>7727516</th>\n",
       "      <td>False</td>\n",
       "      <td>black</td>\n",
       "      <td>8</td>\n",
       "      <td>180</td>\n",
       "      <td>黒タク</td>\n",
       "      <td>8954</td>\n",
       "      <td>35.773867</td>\n",
       "      <td>139.721100</td>\n",
       "      <td>2046</td>\n",
       "      <td>35</td>\n",
       "      <td>35.0</td>\n",
       "      <td>2018-03-31 23:59:41</td>\n",
       "      <td>実車</td>\n",
       "    </tr>\n",
       "    <tr>\n",
       "      <th>9523108</th>\n",
       "      <td>False</td>\n",
       "      <td>black</td>\n",
       "      <td>8</td>\n",
       "      <td>170</td>\n",
       "      <td>黒タク</td>\n",
       "      <td>8954</td>\n",
       "      <td>35.772833</td>\n",
       "      <td>139.721133</td>\n",
       "      <td>2046</td>\n",
       "      <td>37</td>\n",
       "      <td>37.0</td>\n",
       "      <td>2018-03-31 23:59:52</td>\n",
       "      <td>実車</td>\n",
       "    </tr>\n",
       "  </tbody>\n",
       "</table>\n",
       "</div>"
      ],
      "text/plain": [
       "         CanDispatch CarImage  CompanyID  Direction DisplayName  DriverNumber  \\\n",
       "8749626        False    black          8        172         黒タク          8954   \n",
       "8747934        False    black          8        158         黒タク          8954   \n",
       "6233588        False    black          8        164         黒タク          8954   \n",
       "7727516        False    black          8        180         黒タク          8954   \n",
       "9523108        False    black          8        170         黒タク          8954   \n",
       "\n",
       "          Latitude   Longitude  RadioNumber  SpeedFrom  SpeedTo  \\\n",
       "8749626  35.777150  139.720117         2046         27     27.0   \n",
       "8747934  35.776133  139.720367         2046         23     23.0   \n",
       "6233588  35.774950  139.720950         2046         24     24.0   \n",
       "7727516  35.773867  139.721100         2046         35     35.0   \n",
       "9523108  35.772833  139.721133         2046         37     37.0   \n",
       "\n",
       "                  StatusTime VehicleStatus  \n",
       "8749626  2018-03-31 23:58:18            実車  \n",
       "8747934  2018-03-31 23:58:37            実車  \n",
       "6233588  2018-03-31 23:59:16            実車  \n",
       "7727516  2018-03-31 23:59:41            実車  \n",
       "9523108  2018-03-31 23:59:52            実車  "
      ]
     },
     "execution_count": 93,
     "metadata": {},
     "output_type": "execute_result"
    }
   ],
   "source": [
    "dr_406 = df[df[\"DriverNumber\"]==8954].sort_values(by=['StatusTime'])\n",
    "dr_406.tail(5)"
   ]
  },
  {
   "cell_type": "code",
   "execution_count": 92,
   "metadata": {},
   "outputs": [
    {
     "data": {
      "text/html": [
       "<div>\n",
       "<style scoped>\n",
       "    .dataframe tbody tr th:only-of-type {\n",
       "        vertical-align: middle;\n",
       "    }\n",
       "\n",
       "    .dataframe tbody tr th {\n",
       "        vertical-align: top;\n",
       "    }\n",
       "\n",
       "    .dataframe thead th {\n",
       "        text-align: right;\n",
       "    }\n",
       "</style>\n",
       "<table border=\"1\" class=\"dataframe\">\n",
       "  <thead>\n",
       "    <tr style=\"text-align: right;\">\n",
       "      <th></th>\n",
       "      <th>dr_num</th>\n",
       "      <th>start_time</th>\n",
       "      <th>finish_time</th>\n",
       "      <th>lat1</th>\n",
       "      <th>lon1</th>\n",
       "      <th>lat2</th>\n",
       "      <th>lon2</th>\n",
       "      <th>dis</th>\n",
       "    </tr>\n",
       "  </thead>\n",
       "  <tbody>\n",
       "    <tr>\n",
       "      <th>0</th>\n",
       "      <td>8954</td>\n",
       "      <td>2016-04-01 00:11:17</td>\n",
       "      <td>2016-04-01 00:24:44</td>\n",
       "      <td>35.778467</td>\n",
       "      <td>139.719767</td>\n",
       "      <td>35.751800</td>\n",
       "      <td>139.641367</td>\n",
       "      <td>8603.717077</td>\n",
       "    </tr>\n",
       "    <tr>\n",
       "      <th>1</th>\n",
       "      <td>8954</td>\n",
       "      <td>2016-04-01 00:50:50</td>\n",
       "      <td>2016-04-01 01:00:47</td>\n",
       "      <td>35.778400</td>\n",
       "      <td>139.719867</td>\n",
       "      <td>35.783533</td>\n",
       "      <td>139.699383</td>\n",
       "      <td>2494.407241</td>\n",
       "    </tr>\n",
       "    <tr>\n",
       "      <th>2</th>\n",
       "      <td>8954</td>\n",
       "      <td>2016-04-01 01:09:38</td>\n",
       "      <td>2016-04-01 01:15:10</td>\n",
       "      <td>35.778233</td>\n",
       "      <td>139.719833</td>\n",
       "      <td>35.771133</td>\n",
       "      <td>139.712667</td>\n",
       "      <td>1072.286958</td>\n",
       "    </tr>\n",
       "    <tr>\n",
       "      <th>3</th>\n",
       "      <td>8954</td>\n",
       "      <td>2016-04-01 01:23:05</td>\n",
       "      <td>2016-04-01 01:30:00</td>\n",
       "      <td>35.777767</td>\n",
       "      <td>139.721517</td>\n",
       "      <td>35.763433</td>\n",
       "      <td>139.730033</td>\n",
       "      <td>1928.748887</td>\n",
       "    </tr>\n",
       "    <tr>\n",
       "      <th>4</th>\n",
       "      <td>8954</td>\n",
       "      <td>2016-04-01 01:35:44</td>\n",
       "      <td>2016-04-01 01:52:59</td>\n",
       "      <td>35.777950</td>\n",
       "      <td>139.721433</td>\n",
       "      <td>35.725333</td>\n",
       "      <td>139.665183</td>\n",
       "      <td>9727.892274</td>\n",
       "    </tr>\n",
       "  </tbody>\n",
       "</table>\n",
       "</div>"
      ],
      "text/plain": [
       "  dr_num           start_time          finish_time       lat1        lon1  \\\n",
       "0   8954  2016-04-01 00:11:17  2016-04-01 00:24:44  35.778467  139.719767   \n",
       "1   8954  2016-04-01 00:50:50  2016-04-01 01:00:47  35.778400  139.719867   \n",
       "2   8954  2016-04-01 01:09:38  2016-04-01 01:15:10  35.778233  139.719833   \n",
       "3   8954  2016-04-01 01:23:05  2016-04-01 01:30:00  35.777767  139.721517   \n",
       "4   8954  2016-04-01 01:35:44  2016-04-01 01:52:59  35.777950  139.721433   \n",
       "\n",
       "        lat2        lon2          dis  \n",
       "0  35.751800  139.641367  8603.717077  \n",
       "1  35.783533  139.699383  2494.407241  \n",
       "2  35.771133  139.712667  1072.286958  \n",
       "3  35.763433  139.730033  1928.748887  \n",
       "4  35.725333  139.665183  9727.892274  "
      ]
     },
     "execution_count": 92,
     "metadata": {},
     "output_type": "execute_result"
    }
   ],
   "source": [
    "df_dist.head()"
   ]
  },
  {
   "cell_type": "code",
   "execution_count": null,
   "metadata": {},
   "outputs": [],
   "source": []
  }
 ],
 "metadata": {
  "kernelspec": {
   "display_name": "Python 3",
   "language": "python",
   "name": "python3"
  },
  "language_info": {
   "codemirror_mode": {
    "name": "ipython",
    "version": 3
   },
   "file_extension": ".py",
   "mimetype": "text/x-python",
   "name": "python",
   "nbconvert_exporter": "python",
   "pygments_lexer": "ipython3",
   "version": "3.7.3"
  }
 },
 "nbformat": 4,
 "nbformat_minor": 2
}
