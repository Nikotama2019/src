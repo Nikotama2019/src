{
 "cells": [
  {
   "cell_type": "markdown",
   "metadata": {},
   "source": [
    "## データフレームに天気データを追加"
   ]
  },
  {
   "cell_type": "code",
   "execution_count": 1,
   "metadata": {},
   "outputs": [
    {
     "name": "stderr",
     "output_type": "stream",
     "text": [
      "/Users/yuki/.pyenv/versions/3.7.3/lib/python3.7/site-packages/pandas/compat/__init__.py:85: UserWarning: Could not import the lzma module. Your installed Python is incomplete. Attempting to use lzma compression will result in a RuntimeError.\n",
      "  warnings.warn(msg)\n",
      "/Users/yuki/.pyenv/versions/3.7.3/lib/python3.7/site-packages/pandas/compat/__init__.py:85: UserWarning: Could not import the lzma module. Your installed Python is incomplete. Attempting to use lzma compression will result in a RuntimeError.\n",
      "  warnings.warn(msg)\n"
     ]
    }
   ],
   "source": [
    "import pandas as pd\n",
    "import numpy as np\n",
    "import matplotlib.pyplot as plt\n",
    "import seaborn as sns\n",
    "from pathlib import Path"
   ]
  },
  {
   "cell_type": "code",
   "execution_count": 2,
   "metadata": {},
   "outputs": [],
   "source": [
    "df = pd.read_csv(\"dr_record.csv\", index_col=0)"
   ]
  },
  {
   "cell_type": "code",
   "execution_count": 3,
   "metadata": {},
   "outputs": [
    {
     "name": "stdout",
     "output_type": "stream",
     "text": [
      "object\n"
     ]
    }
   ],
   "source": [
    "print(df[\"start_time\"].dtype)"
   ]
  },
  {
   "cell_type": "code",
   "execution_count": 4,
   "metadata": {},
   "outputs": [],
   "source": [
    "df[\"start_time\"] = pd.to_datetime(df[\"start_time\"])"
   ]
  },
  {
   "cell_type": "code",
   "execution_count": 5,
   "metadata": {},
   "outputs": [
    {
     "data": {
      "text/html": [
       "<div>\n",
       "<style scoped>\n",
       "    .dataframe tbody tr th:only-of-type {\n",
       "        vertical-align: middle;\n",
       "    }\n",
       "\n",
       "    .dataframe tbody tr th {\n",
       "        vertical-align: top;\n",
       "    }\n",
       "\n",
       "    .dataframe thead th {\n",
       "        text-align: right;\n",
       "    }\n",
       "</style>\n",
       "<table border=\"1\" class=\"dataframe\">\n",
       "  <thead>\n",
       "    <tr style=\"text-align: right;\">\n",
       "      <th></th>\n",
       "      <th>dr_num</th>\n",
       "      <th>start_time</th>\n",
       "      <th>finish_time</th>\n",
       "      <th>lat1</th>\n",
       "      <th>lon1</th>\n",
       "      <th>lat2</th>\n",
       "      <th>lon2</th>\n",
       "      <th>dis</th>\n",
       "    </tr>\n",
       "  </thead>\n",
       "  <tbody>\n",
       "    <tr>\n",
       "      <th>0</th>\n",
       "      <td>167007</td>\n",
       "      <td>2016-04-01 08:23:23</td>\n",
       "      <td>2016-04-01 08:57:08</td>\n",
       "      <td>35.725998</td>\n",
       "      <td>139.822224</td>\n",
       "      <td>35.689216</td>\n",
       "      <td>139.745462</td>\n",
       "      <td>11955.232742</td>\n",
       "    </tr>\n",
       "    <tr>\n",
       "      <th>1</th>\n",
       "      <td>167007</td>\n",
       "      <td>2016-04-01 09:10:41</td>\n",
       "      <td>2016-04-01 09:21:07</td>\n",
       "      <td>35.691702</td>\n",
       "      <td>139.741012</td>\n",
       "      <td>35.701415</td>\n",
       "      <td>139.756430</td>\n",
       "      <td>2232.459013</td>\n",
       "    </tr>\n",
       "    <tr>\n",
       "      <th>2</th>\n",
       "      <td>167007</td>\n",
       "      <td>2016-04-01 09:22:57</td>\n",
       "      <td>2016-04-01 09:33:31</td>\n",
       "      <td>35.701405</td>\n",
       "      <td>139.755431</td>\n",
       "      <td>35.710814</td>\n",
       "      <td>139.773949</td>\n",
       "      <td>3438.608272</td>\n",
       "    </tr>\n",
       "    <tr>\n",
       "      <th>3</th>\n",
       "      <td>167007</td>\n",
       "      <td>2016-04-01 09:35:47</td>\n",
       "      <td>2016-04-01 09:40:54</td>\n",
       "      <td>35.712424</td>\n",
       "      <td>139.778178</td>\n",
       "      <td>35.707448</td>\n",
       "      <td>139.793827</td>\n",
       "      <td>1669.184583</td>\n",
       "    </tr>\n",
       "    <tr>\n",
       "      <th>4</th>\n",
       "      <td>167007</td>\n",
       "      <td>2016-04-01 09:55:37</td>\n",
       "      <td>2016-04-01 10:15:51</td>\n",
       "      <td>35.697036</td>\n",
       "      <td>139.786218</td>\n",
       "      <td>35.669411</td>\n",
       "      <td>139.741313</td>\n",
       "      <td>5657.205801</td>\n",
       "    </tr>\n",
       "  </tbody>\n",
       "</table>\n",
       "</div>"
      ],
      "text/plain": [
       "   dr_num          start_time          finish_time       lat1        lon1  \\\n",
       "0  167007 2016-04-01 08:23:23  2016-04-01 08:57:08  35.725998  139.822224   \n",
       "1  167007 2016-04-01 09:10:41  2016-04-01 09:21:07  35.691702  139.741012   \n",
       "2  167007 2016-04-01 09:22:57  2016-04-01 09:33:31  35.701405  139.755431   \n",
       "3  167007 2016-04-01 09:35:47  2016-04-01 09:40:54  35.712424  139.778178   \n",
       "4  167007 2016-04-01 09:55:37  2016-04-01 10:15:51  35.697036  139.786218   \n",
       "\n",
       "        lat2        lon2           dis  \n",
       "0  35.689216  139.745462  11955.232742  \n",
       "1  35.701415  139.756430   2232.459013  \n",
       "2  35.710814  139.773949   3438.608272  \n",
       "3  35.707448  139.793827   1669.184583  \n",
       "4  35.669411  139.741313   5657.205801  "
      ]
     },
     "execution_count": 5,
     "metadata": {},
     "output_type": "execute_result"
    }
   ],
   "source": [
    "df.head()"
   ]
  },
  {
   "cell_type": "code",
   "execution_count": 6,
   "metadata": {},
   "outputs": [
    {
     "name": "stdout",
     "output_type": "stream",
     "text": [
      "2016-04-01\n"
     ]
    }
   ],
   "source": [
    "print(df[\"start_time\"][0].date())"
   ]
  },
  {
   "cell_type": "code",
   "execution_count": 7,
   "metadata": {},
   "outputs": [],
   "source": [
    "def map_date(start_time):\n",
    "    date = start_time.date()\n",
    "    return date"
   ]
  },
  {
   "cell_type": "code",
   "execution_count": 8,
   "metadata": {},
   "outputs": [
    {
     "data": {
      "text/html": [
       "<div>\n",
       "<style scoped>\n",
       "    .dataframe tbody tr th:only-of-type {\n",
       "        vertical-align: middle;\n",
       "    }\n",
       "\n",
       "    .dataframe tbody tr th {\n",
       "        vertical-align: top;\n",
       "    }\n",
       "\n",
       "    .dataframe thead th {\n",
       "        text-align: right;\n",
       "    }\n",
       "</style>\n",
       "<table border=\"1\" class=\"dataframe\">\n",
       "  <thead>\n",
       "    <tr style=\"text-align: right;\">\n",
       "      <th></th>\n",
       "      <th>dr_num</th>\n",
       "      <th>start_time</th>\n",
       "      <th>finish_time</th>\n",
       "      <th>lat1</th>\n",
       "      <th>lon1</th>\n",
       "      <th>lat2</th>\n",
       "      <th>lon2</th>\n",
       "      <th>dis</th>\n",
       "      <th>date</th>\n",
       "    </tr>\n",
       "  </thead>\n",
       "  <tbody>\n",
       "    <tr>\n",
       "      <th>0</th>\n",
       "      <td>167007</td>\n",
       "      <td>2016-04-01 08:23:23</td>\n",
       "      <td>2016-04-01 08:57:08</td>\n",
       "      <td>35.725998</td>\n",
       "      <td>139.822224</td>\n",
       "      <td>35.689216</td>\n",
       "      <td>139.745462</td>\n",
       "      <td>11955.232742</td>\n",
       "      <td>2016-04-01 08:23:23</td>\n",
       "    </tr>\n",
       "    <tr>\n",
       "      <th>1</th>\n",
       "      <td>167007</td>\n",
       "      <td>2016-04-01 09:10:41</td>\n",
       "      <td>2016-04-01 09:21:07</td>\n",
       "      <td>35.691702</td>\n",
       "      <td>139.741012</td>\n",
       "      <td>35.701415</td>\n",
       "      <td>139.756430</td>\n",
       "      <td>2232.459013</td>\n",
       "      <td>2016-04-01 09:10:41</td>\n",
       "    </tr>\n",
       "    <tr>\n",
       "      <th>2</th>\n",
       "      <td>167007</td>\n",
       "      <td>2016-04-01 09:22:57</td>\n",
       "      <td>2016-04-01 09:33:31</td>\n",
       "      <td>35.701405</td>\n",
       "      <td>139.755431</td>\n",
       "      <td>35.710814</td>\n",
       "      <td>139.773949</td>\n",
       "      <td>3438.608272</td>\n",
       "      <td>2016-04-01 09:22:57</td>\n",
       "    </tr>\n",
       "    <tr>\n",
       "      <th>3</th>\n",
       "      <td>167007</td>\n",
       "      <td>2016-04-01 09:35:47</td>\n",
       "      <td>2016-04-01 09:40:54</td>\n",
       "      <td>35.712424</td>\n",
       "      <td>139.778178</td>\n",
       "      <td>35.707448</td>\n",
       "      <td>139.793827</td>\n",
       "      <td>1669.184583</td>\n",
       "      <td>2016-04-01 09:35:47</td>\n",
       "    </tr>\n",
       "    <tr>\n",
       "      <th>4</th>\n",
       "      <td>167007</td>\n",
       "      <td>2016-04-01 09:55:37</td>\n",
       "      <td>2016-04-01 10:15:51</td>\n",
       "      <td>35.697036</td>\n",
       "      <td>139.786218</td>\n",
       "      <td>35.669411</td>\n",
       "      <td>139.741313</td>\n",
       "      <td>5657.205801</td>\n",
       "      <td>2016-04-01 09:55:37</td>\n",
       "    </tr>\n",
       "  </tbody>\n",
       "</table>\n",
       "</div>"
      ],
      "text/plain": [
       "   dr_num          start_time          finish_time       lat1        lon1  \\\n",
       "0  167007 2016-04-01 08:23:23  2016-04-01 08:57:08  35.725998  139.822224   \n",
       "1  167007 2016-04-01 09:10:41  2016-04-01 09:21:07  35.691702  139.741012   \n",
       "2  167007 2016-04-01 09:22:57  2016-04-01 09:33:31  35.701405  139.755431   \n",
       "3  167007 2016-04-01 09:35:47  2016-04-01 09:40:54  35.712424  139.778178   \n",
       "4  167007 2016-04-01 09:55:37  2016-04-01 10:15:51  35.697036  139.786218   \n",
       "\n",
       "        lat2        lon2           dis                date  \n",
       "0  35.689216  139.745462  11955.232742 2016-04-01 08:23:23  \n",
       "1  35.701415  139.756430   2232.459013 2016-04-01 09:10:41  \n",
       "2  35.710814  139.773949   3438.608272 2016-04-01 09:22:57  \n",
       "3  35.707448  139.793827   1669.184583 2016-04-01 09:35:47  \n",
       "4  35.669411  139.741313   5657.205801 2016-04-01 09:55:37  "
      ]
     },
     "execution_count": 8,
     "metadata": {},
     "output_type": "execute_result"
    }
   ],
   "source": [
    "df[\"date\"] = df[\"start_time\"]\n",
    "df.head()"
   ]
  },
  {
   "cell_type": "code",
   "execution_count": 9,
   "metadata": {},
   "outputs": [],
   "source": [
    "df['date'] = df['date'].map(map_date)"
   ]
  },
  {
   "cell_type": "code",
   "execution_count": 10,
   "metadata": {},
   "outputs": [],
   "source": [
    "df[\"date\"] = pd.to_datetime(df[\"date\"])"
   ]
  },
  {
   "cell_type": "code",
   "execution_count": 11,
   "metadata": {},
   "outputs": [
    {
     "name": "stdout",
     "output_type": "stream",
     "text": [
      "datetime64[ns]\n"
     ]
    }
   ],
   "source": [
    "print(df[\"date\"].dtype)"
   ]
  },
  {
   "cell_type": "code",
   "execution_count": 12,
   "metadata": {},
   "outputs": [
    {
     "data": {
      "text/html": [
       "<div>\n",
       "<style scoped>\n",
       "    .dataframe tbody tr th:only-of-type {\n",
       "        vertical-align: middle;\n",
       "    }\n",
       "\n",
       "    .dataframe tbody tr th {\n",
       "        vertical-align: top;\n",
       "    }\n",
       "\n",
       "    .dataframe thead th {\n",
       "        text-align: right;\n",
       "    }\n",
       "</style>\n",
       "<table border=\"1\" class=\"dataframe\">\n",
       "  <thead>\n",
       "    <tr style=\"text-align: right;\">\n",
       "      <th></th>\n",
       "      <th>dr_num</th>\n",
       "      <th>start_time</th>\n",
       "      <th>finish_time</th>\n",
       "      <th>lat1</th>\n",
       "      <th>lon1</th>\n",
       "      <th>lat2</th>\n",
       "      <th>lon2</th>\n",
       "      <th>dis</th>\n",
       "      <th>date</th>\n",
       "    </tr>\n",
       "  </thead>\n",
       "  <tbody>\n",
       "    <tr>\n",
       "      <th>0</th>\n",
       "      <td>167007</td>\n",
       "      <td>2016-04-01 08:23:23</td>\n",
       "      <td>2016-04-01 08:57:08</td>\n",
       "      <td>35.725998</td>\n",
       "      <td>139.822224</td>\n",
       "      <td>35.689216</td>\n",
       "      <td>139.745462</td>\n",
       "      <td>11955.232742</td>\n",
       "      <td>2016-04-01</td>\n",
       "    </tr>\n",
       "    <tr>\n",
       "      <th>1</th>\n",
       "      <td>167007</td>\n",
       "      <td>2016-04-01 09:10:41</td>\n",
       "      <td>2016-04-01 09:21:07</td>\n",
       "      <td>35.691702</td>\n",
       "      <td>139.741012</td>\n",
       "      <td>35.701415</td>\n",
       "      <td>139.756430</td>\n",
       "      <td>2232.459013</td>\n",
       "      <td>2016-04-01</td>\n",
       "    </tr>\n",
       "    <tr>\n",
       "      <th>2</th>\n",
       "      <td>167007</td>\n",
       "      <td>2016-04-01 09:22:57</td>\n",
       "      <td>2016-04-01 09:33:31</td>\n",
       "      <td>35.701405</td>\n",
       "      <td>139.755431</td>\n",
       "      <td>35.710814</td>\n",
       "      <td>139.773949</td>\n",
       "      <td>3438.608272</td>\n",
       "      <td>2016-04-01</td>\n",
       "    </tr>\n",
       "    <tr>\n",
       "      <th>3</th>\n",
       "      <td>167007</td>\n",
       "      <td>2016-04-01 09:35:47</td>\n",
       "      <td>2016-04-01 09:40:54</td>\n",
       "      <td>35.712424</td>\n",
       "      <td>139.778178</td>\n",
       "      <td>35.707448</td>\n",
       "      <td>139.793827</td>\n",
       "      <td>1669.184583</td>\n",
       "      <td>2016-04-01</td>\n",
       "    </tr>\n",
       "    <tr>\n",
       "      <th>4</th>\n",
       "      <td>167007</td>\n",
       "      <td>2016-04-01 09:55:37</td>\n",
       "      <td>2016-04-01 10:15:51</td>\n",
       "      <td>35.697036</td>\n",
       "      <td>139.786218</td>\n",
       "      <td>35.669411</td>\n",
       "      <td>139.741313</td>\n",
       "      <td>5657.205801</td>\n",
       "      <td>2016-04-01</td>\n",
       "    </tr>\n",
       "  </tbody>\n",
       "</table>\n",
       "</div>"
      ],
      "text/plain": [
       "   dr_num          start_time          finish_time       lat1        lon1  \\\n",
       "0  167007 2016-04-01 08:23:23  2016-04-01 08:57:08  35.725998  139.822224   \n",
       "1  167007 2016-04-01 09:10:41  2016-04-01 09:21:07  35.691702  139.741012   \n",
       "2  167007 2016-04-01 09:22:57  2016-04-01 09:33:31  35.701405  139.755431   \n",
       "3  167007 2016-04-01 09:35:47  2016-04-01 09:40:54  35.712424  139.778178   \n",
       "4  167007 2016-04-01 09:55:37  2016-04-01 10:15:51  35.697036  139.786218   \n",
       "\n",
       "        lat2        lon2           dis       date  \n",
       "0  35.689216  139.745462  11955.232742 2016-04-01  \n",
       "1  35.701415  139.756430   2232.459013 2016-04-01  \n",
       "2  35.710814  139.773949   3438.608272 2016-04-01  \n",
       "3  35.707448  139.793827   1669.184583 2016-04-01  \n",
       "4  35.669411  139.741313   5657.205801 2016-04-01  "
      ]
     },
     "execution_count": 12,
     "metadata": {},
     "output_type": "execute_result"
    }
   ],
   "source": [
    "df.head()"
   ]
  },
  {
   "cell_type": "code",
   "execution_count": 13,
   "metadata": {},
   "outputs": [],
   "source": [
    "df_c = pd.read_csv(\"climate_t.csv\")"
   ]
  },
  {
   "cell_type": "code",
   "execution_count": 14,
   "metadata": {},
   "outputs": [
    {
     "data": {
      "text/html": [
       "<div>\n",
       "<style scoped>\n",
       "    .dataframe tbody tr th:only-of-type {\n",
       "        vertical-align: middle;\n",
       "    }\n",
       "\n",
       "    .dataframe tbody tr th {\n",
       "        vertical-align: top;\n",
       "    }\n",
       "\n",
       "    .dataframe thead th {\n",
       "        text-align: right;\n",
       "    }\n",
       "</style>\n",
       "<table border=\"1\" class=\"dataframe\">\n",
       "  <thead>\n",
       "    <tr style=\"text-align: right;\">\n",
       "      <th></th>\n",
       "      <th>date</th>\n",
       "      <th>temperature</th>\n",
       "      <th>rain</th>\n",
       "    </tr>\n",
       "  </thead>\n",
       "  <tbody>\n",
       "    <tr>\n",
       "      <th>0</th>\n",
       "      <td>2016/4/1</td>\n",
       "      <td>12.8</td>\n",
       "      <td>2.5</td>\n",
       "    </tr>\n",
       "    <tr>\n",
       "      <th>1</th>\n",
       "      <td>2016/4/2</td>\n",
       "      <td>10.5</td>\n",
       "      <td>1.5</td>\n",
       "    </tr>\n",
       "    <tr>\n",
       "      <th>2</th>\n",
       "      <td>2016/4/3</td>\n",
       "      <td>13.1</td>\n",
       "      <td>4.0</td>\n",
       "    </tr>\n",
       "    <tr>\n",
       "      <th>3</th>\n",
       "      <td>2016/4/4</td>\n",
       "      <td>15.6</td>\n",
       "      <td>8.0</td>\n",
       "    </tr>\n",
       "    <tr>\n",
       "      <th>4</th>\n",
       "      <td>2016/4/5</td>\n",
       "      <td>10.8</td>\n",
       "      <td>1.5</td>\n",
       "    </tr>\n",
       "  </tbody>\n",
       "</table>\n",
       "</div>"
      ],
      "text/plain": [
       "       date  temperature  rain\n",
       "0  2016/4/1         12.8   2.5\n",
       "1  2016/4/2         10.5   1.5\n",
       "2  2016/4/3         13.1   4.0\n",
       "3  2016/4/4         15.6   8.0\n",
       "4  2016/4/5         10.8   1.5"
      ]
     },
     "execution_count": 14,
     "metadata": {},
     "output_type": "execute_result"
    }
   ],
   "source": [
    "df_c.head()"
   ]
  },
  {
   "cell_type": "code",
   "execution_count": 15,
   "metadata": {},
   "outputs": [
    {
     "name": "stdout",
     "output_type": "stream",
     "text": [
      "datetime64[ns]\n"
     ]
    }
   ],
   "source": [
    "df_c[\"date\"] = pd.to_datetime(df_c[\"date\"])\n",
    "print(df_c[\"date\"].dtype)"
   ]
  },
  {
   "cell_type": "code",
   "execution_count": 16,
   "metadata": {},
   "outputs": [
    {
     "data": {
      "text/html": [
       "<div>\n",
       "<style scoped>\n",
       "    .dataframe tbody tr th:only-of-type {\n",
       "        vertical-align: middle;\n",
       "    }\n",
       "\n",
       "    .dataframe tbody tr th {\n",
       "        vertical-align: top;\n",
       "    }\n",
       "\n",
       "    .dataframe thead th {\n",
       "        text-align: right;\n",
       "    }\n",
       "</style>\n",
       "<table border=\"1\" class=\"dataframe\">\n",
       "  <thead>\n",
       "    <tr style=\"text-align: right;\">\n",
       "      <th></th>\n",
       "      <th>dr_num</th>\n",
       "      <th>start_time</th>\n",
       "      <th>finish_time</th>\n",
       "      <th>lat1</th>\n",
       "      <th>lon1</th>\n",
       "      <th>lat2</th>\n",
       "      <th>lon2</th>\n",
       "      <th>dis</th>\n",
       "      <th>date</th>\n",
       "      <th>temperature</th>\n",
       "      <th>rain</th>\n",
       "    </tr>\n",
       "  </thead>\n",
       "  <tbody>\n",
       "    <tr>\n",
       "      <th>0</th>\n",
       "      <td>167007</td>\n",
       "      <td>2016-04-01 08:23:23</td>\n",
       "      <td>2016-04-01 08:57:08</td>\n",
       "      <td>35.725998</td>\n",
       "      <td>139.822224</td>\n",
       "      <td>35.689216</td>\n",
       "      <td>139.745462</td>\n",
       "      <td>11955.232742</td>\n",
       "      <td>2016-04-01</td>\n",
       "      <td>12.8</td>\n",
       "      <td>2.5</td>\n",
       "    </tr>\n",
       "    <tr>\n",
       "      <th>1</th>\n",
       "      <td>167007</td>\n",
       "      <td>2016-04-01 09:10:41</td>\n",
       "      <td>2016-04-01 09:21:07</td>\n",
       "      <td>35.691702</td>\n",
       "      <td>139.741012</td>\n",
       "      <td>35.701415</td>\n",
       "      <td>139.756430</td>\n",
       "      <td>2232.459013</td>\n",
       "      <td>2016-04-01</td>\n",
       "      <td>12.8</td>\n",
       "      <td>2.5</td>\n",
       "    </tr>\n",
       "    <tr>\n",
       "      <th>2</th>\n",
       "      <td>167007</td>\n",
       "      <td>2016-04-01 09:22:57</td>\n",
       "      <td>2016-04-01 09:33:31</td>\n",
       "      <td>35.701405</td>\n",
       "      <td>139.755431</td>\n",
       "      <td>35.710814</td>\n",
       "      <td>139.773949</td>\n",
       "      <td>3438.608272</td>\n",
       "      <td>2016-04-01</td>\n",
       "      <td>12.8</td>\n",
       "      <td>2.5</td>\n",
       "    </tr>\n",
       "    <tr>\n",
       "      <th>3</th>\n",
       "      <td>167007</td>\n",
       "      <td>2016-04-01 09:35:47</td>\n",
       "      <td>2016-04-01 09:40:54</td>\n",
       "      <td>35.712424</td>\n",
       "      <td>139.778178</td>\n",
       "      <td>35.707448</td>\n",
       "      <td>139.793827</td>\n",
       "      <td>1669.184583</td>\n",
       "      <td>2016-04-01</td>\n",
       "      <td>12.8</td>\n",
       "      <td>2.5</td>\n",
       "    </tr>\n",
       "    <tr>\n",
       "      <th>4</th>\n",
       "      <td>167007</td>\n",
       "      <td>2016-04-01 09:55:37</td>\n",
       "      <td>2016-04-01 10:15:51</td>\n",
       "      <td>35.697036</td>\n",
       "      <td>139.786218</td>\n",
       "      <td>35.669411</td>\n",
       "      <td>139.741313</td>\n",
       "      <td>5657.205801</td>\n",
       "      <td>2016-04-01</td>\n",
       "      <td>12.8</td>\n",
       "      <td>2.5</td>\n",
       "    </tr>\n",
       "  </tbody>\n",
       "</table>\n",
       "</div>"
      ],
      "text/plain": [
       "   dr_num          start_time          finish_time       lat1        lon1  \\\n",
       "0  167007 2016-04-01 08:23:23  2016-04-01 08:57:08  35.725998  139.822224   \n",
       "1  167007 2016-04-01 09:10:41  2016-04-01 09:21:07  35.691702  139.741012   \n",
       "2  167007 2016-04-01 09:22:57  2016-04-01 09:33:31  35.701405  139.755431   \n",
       "3  167007 2016-04-01 09:35:47  2016-04-01 09:40:54  35.712424  139.778178   \n",
       "4  167007 2016-04-01 09:55:37  2016-04-01 10:15:51  35.697036  139.786218   \n",
       "\n",
       "        lat2        lon2           dis       date  temperature  rain  \n",
       "0  35.689216  139.745462  11955.232742 2016-04-01         12.8   2.5  \n",
       "1  35.701415  139.756430   2232.459013 2016-04-01         12.8   2.5  \n",
       "2  35.710814  139.773949   3438.608272 2016-04-01         12.8   2.5  \n",
       "3  35.707448  139.793827   1669.184583 2016-04-01         12.8   2.5  \n",
       "4  35.669411  139.741313   5657.205801 2016-04-01         12.8   2.5  "
      ]
     },
     "execution_count": 16,
     "metadata": {},
     "output_type": "execute_result"
    }
   ],
   "source": [
    "df_m = pd.merge(df, df_c, on = \"date\", how='left')\n",
    "df_m.head()"
   ]
  },
  {
   "cell_type": "code",
   "execution_count": 17,
   "metadata": {},
   "outputs": [],
   "source": [
    "df_m.to_csv(\"dr_cli.csv\")"
   ]
  },
  {
   "cell_type": "code",
   "execution_count": null,
   "metadata": {},
   "outputs": [],
   "source": []
  }
 ],
 "metadata": {
  "kernelspec": {
   "display_name": "Python 3",
   "language": "python",
   "name": "python3"
  },
  "language_info": {
   "codemirror_mode": {
    "name": "ipython",
    "version": 3
   },
   "file_extension": ".py",
   "mimetype": "text/x-python",
   "name": "python",
   "nbconvert_exporter": "python",
   "pygments_lexer": "ipython3",
   "version": "3.7.3"
  }
 },
 "nbformat": 4,
 "nbformat_minor": 2
}
